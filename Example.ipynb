{
 "cells": [
  {
   "cell_type": "code",
   "execution_count": 5,
   "id": "cee1253d",
   "metadata": {},
   "outputs": [
    {
     "ename": "NameError",
     "evalue": "name 'new_corr' is not defined",
     "output_type": "error",
     "traceback": [
      "\u001b[1;31m---------------------------------------------------------------------------\u001b[0m",
      "\u001b[1;31mNameError\u001b[0m                                 Traceback (most recent call last)",
      "\u001b[1;32m<ipython-input-5-95cc36c859f3>\u001b[0m in \u001b[0;36m<module>\u001b[1;34m\u001b[0m\n\u001b[0;32m     14\u001b[0m \u001b[1;33m\u001b[0m\u001b[0m\n\u001b[0;32m     15\u001b[0m \u001b[1;33m\u001b[0m\u001b[0m\n\u001b[1;32m---> 16\u001b[1;33m \u001b[0mdvv_comb\u001b[0m\u001b[1;33m,\u001b[0m \u001b[0mstd_comb\u001b[0m \u001b[1;33m=\u001b[0m \u001b[0mMWCS\u001b[0m\u001b[1;33m.\u001b[0m\u001b[0mdv_v_for_combinations\u001b[0m\u001b[1;33m(\u001b[0m\u001b[0mnew_corr\u001b[0m\u001b[1;33m.\u001b[0m\u001b[0mdata\u001b[0m\u001b[1;33m[\u001b[0m\u001b[1;33m:\u001b[0m\u001b[1;33m]\u001b[0m\u001b[1;33m,\u001b[0m \u001b[0mfreqmin\u001b[0m\u001b[1;33m=\u001b[0m\u001b[1;36m0.34\u001b[0m\u001b[1;33m,\u001b[0m \u001b[0mfreqmax\u001b[0m\u001b[1;33m=\u001b[0m\u001b[1;36m0.9\u001b[0m\u001b[1;33m,\u001b[0m \u001b[0mdtt_minlag\u001b[0m\u001b[1;33m=\u001b[0m\u001b[1;36m3\u001b[0m\u001b[1;33m,\u001b[0m \u001b[0mwindow_length\u001b[0m\u001b[1;33m=\u001b[0m\u001b[1;36m6\u001b[0m\u001b[1;33m,\u001b[0m \u001b[0mwindow_step\u001b[0m\u001b[1;33m=\u001b[0m\u001b[1;36m2\u001b[0m\u001b[1;33m,\u001b[0m \u001b[0mtmin\u001b[0m\u001b[1;33m=\u001b[0m\u001b[1;33m-\u001b[0m\u001b[1;36m50\u001b[0m\u001b[1;33m,\u001b[0m \u001b[0mdtt_maxlag\u001b[0m\u001b[1;33m=\u001b[0m\u001b[1;36m50\u001b[0m\u001b[1;33m,\u001b[0m \u001b[0mdf\u001b[0m\u001b[1;33m=\u001b[0m\u001b[1;36m10\u001b[0m \u001b[1;33m)\u001b[0m\u001b[1;33m\u001b[0m\u001b[1;33m\u001b[0m\u001b[0m\n\u001b[0m\u001b[0;32m     17\u001b[0m \u001b[0mcc_matrix\u001b[0m\u001b[1;33m,\u001b[0m \u001b[0mcc_array\u001b[0m\u001b[1;33m,\u001b[0m \u001b[0mcomb\u001b[0m \u001b[1;33m=\u001b[0m\u001b[0mInversion\u001b[0m\u001b[1;33m.\u001b[0m\u001b[0mcorrelation_coefficient_matrix\u001b[0m\u001b[1;33m(\u001b[0m\u001b[0mnew_corr\u001b[0m\u001b[1;33m.\u001b[0m\u001b[0mdata\u001b[0m\u001b[1;33m[\u001b[0m\u001b[1;33m:\u001b[0m\u001b[1;33m]\u001b[0m\u001b[1;33m,\u001b[0m  \u001b[0mdf\u001b[0m\u001b[1;33m=\u001b[0m\u001b[1;36m10\u001b[0m\u001b[1;33m,\u001b[0m \u001b[0mdt_minlag\u001b[0m\u001b[1;33m=\u001b[0m\u001b[1;36m15\u001b[0m \u001b[1;33m)\u001b[0m\u001b[1;33m\u001b[0m\u001b[1;33m\u001b[0m\u001b[0m\n\u001b[0;32m     18\u001b[0m \u001b[0mbayinv\u001b[0m\u001b[1;33m.\u001b[0m\u001b[0minversion\u001b[0m\u001b[1;33m.\u001b[0m\u001b[0mplot_cc_matrix\u001b[0m\u001b[1;33m(\u001b[0m\u001b[0mcc_matrix\u001b[0m\u001b[1;33m,\u001b[0m \u001b[0mnew_corr\u001b[0m\u001b[1;33m.\u001b[0m\u001b[0mtime\u001b[0m\u001b[1;33m)\u001b[0m\u001b[1;33m\u001b[0m\u001b[1;33m\u001b[0m\u001b[0m\n",
      "\u001b[1;31mNameError\u001b[0m: name 'new_corr' is not defined"
     ]
    }
   ],
   "source": [
    "import Inversion\n",
    "import MWCS\n",
    "param = {\"df\": 10,\n",
    "          \"freqmin\": 0.34,\n",
    "          \"freqmax\": 0.9,\n",
    "          \"dtt_minalg\": 3,\n",
    "          \"window_lenght\": 6,\n",
    "          \"window_step\": 3,\n",
    "          \"dtt_maxlag\": 50,\n",
    "          \"tmin\": -50,\n",
    "          \"alpha\": 50,\n",
    "          \"beta\": 1000\n",
    "         }\n",
    "\n",
    "array_of_date = []\n",
    "dvv_comb, std_comb = MWCS.dv_v_for_combinations(cross_corr_mat, freqmin=param[\"freqmin\"], \n",
    "                                                freqmax=param[\"freqmax\"], dtt_minlag=param[\"dtt_minlag\"], \n",
    "                                                window_length=param[\"window_length\"], window_step=param[\"window_step\"], \n",
    "                                                tmin=param[\"tmin\"], dtt_maxlag=param[\"dtt_maxlag\"], \n",
    "                                                df=param[\"df\"] )\n",
    "\n",
    "cc_matrix, cc_array, comb =Inversion.correlation_coefficient_matrix(new_corr.data[:], df=param[\"df\"], \n",
    "                                                                    dt_minlag=param[\"dtt_minlag\"] )\n",
    "bayinv.inversion.plot_cc_matrix(cc_matrix, array_of_date)\n",
    "\n"
   ]
  },
  {
   "cell_type": "code",
   "execution_count": 2,
   "id": "d3bf99df",
   "metadata": {},
   "outputs": [
    {
     "ename": "SyntaxError",
     "evalue": "unexpected EOF while parsing (<ipython-input-2-dce0a8a4494d>, line 5)",
     "output_type": "error",
     "traceback": [
      "\u001b[1;36m  File \u001b[1;32m\"<ipython-input-2-dce0a8a4494d>\"\u001b[1;36m, line \u001b[1;32m5\u001b[0m\n\u001b[1;33m    bayinv.inversion.plot_dvv_curve(dvv_per_day, std_per_day, new_corr.time\u001b[0m\n\u001b[1;37m                                                                           ^\u001b[0m\n\u001b[1;31mSyntaxError\u001b[0m\u001b[1;31m:\u001b[0m unexpected EOF while parsing\n"
     ]
    }
   ],
   "source": [
    "indexes = bayinv.inversion.data_filter(dvv_comb, std_comb, cc_array)\n",
    "\n",
    "bayinv.inversion.plot_data_distribution(dvv_comb)"
   ]
  },
  {
   "cell_type": "code",
   "execution_count": null,
   "id": "754ff4d2",
   "metadata": {},
   "outputs": [],
   "source": [
    "dvv_per_day, std_per_day = bayinv.inversion.dvv_inversion(dvv_comb, std_comb, indexes, \n",
    "                                                          lenght=len(new_corr.data), beta=param[\"beta\"], alpha=param[\"beta\"])\n",
    "\n",
    "bayinv.inversion.plot_dvv_curve(dvv_per_day, std_per_day, array_of_date)\n",
    "bayinv.inversion.plot_data_distribution(dvv_per_day)"
   ]
  }
 ],
 "metadata": {
  "kernelspec": {
   "display_name": "Python 3",
   "language": "python",
   "name": "python3"
  },
  "language_info": {
   "codemirror_mode": {
    "name": "ipython",
    "version": 3
   },
   "file_extension": ".py",
   "mimetype": "text/x-python",
   "name": "python",
   "nbconvert_exporter": "python",
   "pygments_lexer": "ipython3",
   "version": "3.6.13"
  }
 },
 "nbformat": 4,
 "nbformat_minor": 5
}
